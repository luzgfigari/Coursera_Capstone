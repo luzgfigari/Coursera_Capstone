{
 "cells": [
  {
   "cell_type": "markdown",
   "id": "524fb434-92ea-4035-9372-be05e2bfec91",
   "metadata": {},
   "source": [
    "Notebook para proyecto final Capstone"
   ]
  },
  {
   "cell_type": "code",
   "execution_count": 8,
   "id": "66695b92-0fd5-40b3-b196-f5211572b16c",
   "metadata": {
    "tags": []
   },
   "outputs": [
    {
     "name": "stdout",
     "output_type": "stream",
     "text": [
      "¡Hola, Proyecto Final del Curso!\n"
     ]
    }
   ],
   "source": [
    "import pandas as pd\n",
    "import numpy as np\n",
    "print( '¡Hola, Proyecto Final del Curso!')\n"
   ]
  },
  {
   "cell_type": "code",
   "execution_count": null,
   "id": "67d33552-4fee-4458-8469-eb302ad47d49",
   "metadata": {
    "tags": []
   },
   "outputs": [],
   "source": []
  },
  {
   "cell_type": "code",
   "execution_count": null,
   "id": "fa8c3311-7264-4773-8af3-306b479cde80",
   "metadata": {
    "jupyter": {
     "source_hidden": true
    }
   },
   "outputs": [],
   "source": []
  }
 ],
 "metadata": {
  "kernelspec": {
   "display_name": "Python 3 (ipykernel)",
   "language": "python",
   "name": "python3"
  },
  "language_info": {
   "codemirror_mode": {
    "name": "ipython",
    "version": 3
   },
   "file_extension": ".py",
   "mimetype": "text/x-python",
   "name": "python",
   "nbconvert_exporter": "python",
   "pygments_lexer": "ipython3",
   "version": "3.9.12"
  }
 },
 "nbformat": 4,
 "nbformat_minor": 5
}
