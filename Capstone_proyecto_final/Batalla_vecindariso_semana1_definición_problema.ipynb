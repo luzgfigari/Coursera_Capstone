{
 "cells": [
  {
   "cell_type": "markdown",
   "id": "f43aaf71-e172-478d-a23b-dde5aca8e1a6",
   "metadata": {},
   "source": [
    "\n",
    "# <center> <h8>PROYECTO FINAL: BATALLA DE LOS VECINDARIOS</h8> </center> #\n",
    "\n",
    "<h10>Fecha: Julio 2022</h10>\\\n",
    "<h10>Autor: Luz M. González Figari.</h10>\n",
    "\n",
    "## Introducción/Problema Comercial  ##\n",
    "\n",
    "Desde hace algunos años, el cambio climático ha pegado fuerte en el nivel de sequía en Chile, principalmente en la zona Norte del país. Por lo anterior, se estima que de a poco los habitantes de la zona Norte e incluso algunos de la zona centro, irán migrando hacia el sur de Chile dentro de los próximos 20 años en busca de lugares con menores problemas de agua, ya que es claramente mas lluvioso que el sur. \n",
    "\n",
    "Nuestro cliente, una corredora de propiedades del norte de Chile, quiere extender sus operaciones al sur del país ya que desde hace algún tiempo está recibiendo solicitudes de compra-arriendo de viviendas para la zona Sur de Chile y nos han pedido un estudio de las mejores regiones-ciudades para vivir, teniendo en cuenta algunas variables tales como precipitaciones caídas, cercanías de colegios, supermecados y centros comerciales,centros de salud, etc..\n",
    "\n"
   ]
  },
  {
   "cell_type": "code",
   "execution_count": null,
   "id": "1354ac2d-4d3e-44fd-bef7-a2d062ea00d6",
   "metadata": {},
   "outputs": [],
   "source": []
  }
 ],
 "metadata": {
  "kernelspec": {
   "display_name": "Python 3 (ipykernel)",
   "language": "python",
   "name": "python3"
  },
  "language_info": {
   "codemirror_mode": {
    "name": "ipython",
    "version": 3
   },
   "file_extension": ".py",
   "mimetype": "text/x-python",
   "name": "python",
   "nbconvert_exporter": "python",
   "pygments_lexer": "ipython3",
   "version": "3.9.12"
  }
 },
 "nbformat": 4,
 "nbformat_minor": 5
}
