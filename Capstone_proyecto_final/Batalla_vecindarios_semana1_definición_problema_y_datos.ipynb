{
 "cells": [
  {
   "cell_type": "markdown",
   "id": "f43aaf71-e172-478d-a23b-dde5aca8e1a6",
   "metadata": {},
   "source": [
    "\n",
    "# <center> <h8>PROYECTO FINAL: BATALLA DE LOS VECINDARIOS</h8> </center> #\n",
    "\n",
    "<h10>Fecha: Julio 2022</h10> <br />\n",
    "<h10>Autor: Luz M. González Figari.</h10>\n",
    "\n",
    "## Introducción/Problema Comercial  ##\n",
    "\n",
    "Desde hace algunos años, el cambio climático ha pegado fuerte en el nivel de sequía en Chile, principalmente en la zona Norte del país. Por lo anterior, se estima que de a poco los habitantes de la zona Norte e incluso algunos de la zona centro, irán migrando hacia el sur de Chile dentro de los próximos 20 años en busca de lugares con menores problemas de agua, ya que es claramente mas lluvioso que el sur. \n",
    "\n",
    "Nuestro cliente, una corredora de propiedades del norte de Chile, quiere extender sus operaciones al sur del país ya que desde hace algún tiempo está recibiendo solicitudes de compra-arriendo de viviendas para la zona Sur de Chile y nos han pedido un estudio de las mejores regiones-ciudades para vivir, teniendo en cuenta algunas variables tales como precipitaciones caídas, cercanías de colegios, supermecados y centros comerciales,centros de salud, etc..\n",
    "\n"
   ]
  },
  {
   "cell_type": "markdown",
   "id": "32995728-65ec-41b2-8da5-cfa1c7c91701",
   "metadata": {},
   "source": [
    "## Los Datos ##\n",
    "\n",
    "   Los datos necesarios para el análisis son:\n",
    "\n",
    "  **Regiones y comunas de Chile** se obtebdrán de la url https://www.google.com/search?q=regiones+y+comunas+de+chile+2022+excel&rlz=1C1ALOY_esCL996CL996&sxsrf=ALiCzsaWQKPcW0Z0VD-dVw0JsYUprb81Ew%3A1658693517293&ei=jafdYr6_EbWD5OUPpKSnkAo&oq=regiones+y+comunas+de+chile+excle&gs_lcp=Cgdnd3Mtd2l6EAMYAzIGCAAQHhAWMgYIABAeEBYyBggAEB4QFjIGCAAQHhAWOgcIABBHELADOgcIABCwAxBDOgoIABCwAxBDEIsDOgUIABCABEoFCDwSATFKBAhBGABKBAhGGABQ2AZY7xFgsC1oAXABeACAATGIAaACkgEBNpgBAKABAcgBCrgBAsABAQ&sclient=gws-wiz desde la cual se obtiene un arcivo csv con los datos que llamaremos regiones_y_comunas_chile.csv.\n",
    "  \n",
    "  **Datos de precipitaciones**: Los datos de precipitaciones para las ciudades del sur de Chile se obtendrán previamente desde la url \n",
    " https://stat.ine.cl/index.aspx?DatasetCode=E20105001 y se almacenarán en el archivo precipitaciones_Chile.csv. Desde este archivo se obtendrán las 10 localidades con lluvias anuales que estén dentro de la media.\n",
    " \n",
    " **Colegios particulares**: Los datos de colegios particulares se obtendrá de la url https://www.bcn.cl/siit/estadisticasterritoriales//resultados-consulta?id=133660 y se almacenarán en el archivo Colegios_Sur_Chile.csv. Desde este archivo se obtendrán los colegios de laslocalidades mencionadas en el punto anterior.\n",
    " \n",
    " **Coordenadas geográficas Chile**: Las cordenadas geográficas de Chile y sus regiones y localidades se obtendrán de la url https://es.foursquare.com/developers/projects. Desde donde también se obtendrán los lugares que más se acerquen a lo requerido por nuestro cliente, lo cual finalmente nos ayudará a tomar las decisiones finales.\n"
   ]
  }
 ],
 "metadata": {
  "kernelspec": {
   "display_name": "Python 3 (ipykernel)",
   "language": "python",
   "name": "python3"
  },
  "language_info": {
   "codemirror_mode": {
    "name": "ipython",
    "version": 3
   },
   "file_extension": ".py",
   "mimetype": "text/x-python",
   "name": "python",
   "nbconvert_exporter": "python",
   "pygments_lexer": "ipython3",
   "version": "3.9.12"
  }
 },
 "nbformat": 4,
 "nbformat_minor": 5
}
