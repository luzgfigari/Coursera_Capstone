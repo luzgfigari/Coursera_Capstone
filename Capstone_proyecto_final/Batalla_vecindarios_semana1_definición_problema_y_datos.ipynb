{
 "cells": [
  {
   "cell_type": "markdown",
   "id": "f43aaf71-e172-478d-a23b-dde5aca8e1a6",
   "metadata": {},
   "source": [
    "\n",
    "# <center> <h8>PROYECTO FINAL: BATALLA DE LOS VECINDARIOS</h8> </center> #\n",
    "\n",
    "<h10>Fecha: Julio 2022</h10> <br />\n",
    "<h10>Autor: Luz M. González Figari.</h10>\n",
    "\n",
    "## Introducción/Problema Comercial  ##\n",
    "\n",
    "Desde hace algunos años, el cambio climático ha pegado fuerte en el nivel de sequía en Chile, principalmente en la zona Norte del país. Por lo anterior, se estima que de a poco los habitantes de la zona Norte e incluso algunos de la zona centro, irán migrando hacia el sur de Chile dentro de los próximos 20 años en busca de lugares con menores problemas de agua, ya que es claramente mas lluvioso que el sur. \n",
    "\n",
    "Nuestro cliente, una corredora de propiedades del norte de Chile, quiere extender sus operaciones al sur del país ya que desde hace algún tiempo está recibiendo solicitudes de compra-arriendo de viviendas para la zona Sur de Chile y nos han pedido un estudio de las mejores regiones-ciudades para vivir, teniendo en cuenta algunas variables tales como precipitaciones caídas, cercanías de colegios, supermecados y centros comerciales,centros de salud, etc..\n",
    "\n"
   ]
  },
  {
   "cell_type": "markdown",
   "id": "32995728-65ec-41b2-8da5-cfa1c7c91701",
   "metadata": {},
   "source": [
    "## Los Datos ##\n",
    "\n",
    "   Los datos necesarios para el análisis son:\n",
    "\n",
    "\n",
    "Regiones y comunas de Chile Las capitales regionales de Chile para ser ese obtendrán desde la url de wikipedia https://es.wikipedia.org/wiki/Anexo:Comunas_de_Chile, el cual se almacenó en el archivo Capital_Regional_por_Region.csv.\n",
    "\n",
    "Datos de precipitaciones: Los datos de precipitaciones para las capitales Regionales de Chile se obtendrán previamente desde la url https://explorador.cr2.cl/ generando el archivo precipitaciones.csv. Luego serán unificados en Phyton. De este archivo se obtendrán las 5 localidades del Sur cuyo promedio de lluvias anuales estén dentro de la mediana.\n",
    "\n",
    "Colegios particulares: Los datos de colegios particulares se obtendrá de la url https://www.bcn.cl/siit/estadisticasterritoriales//resultados-consulta?id=133660 y se almacenarán en el archivo Colegios_Capitales_Regionales_Chile.csv. Desde este archivo se obtendrán los colegios de las localidades mencionadas en el punto anterior.\n",
    "\n",
    "Coordenadas geográficas Chile: Las cordenadas geográficas de Chile y sus regiones y localidades se obtendrán de la url https://es.foursquare.com/developers/projects. Desde donde también se obtendrán los lugares que más se acerquen a lo requerido por nuestro cliente, lo cual nos ayudará a tomar las decisiones finales."
   ]
  },
  {
   "cell_type": "code",
   "execution_count": null,
   "id": "cbbf600a-72a0-41a3-8818-ba8c75268ea4",
   "metadata": {},
   "outputs": [],
   "source": []
  }
 ],
 "metadata": {
  "kernelspec": {
   "display_name": "Python 3 (ipykernel)",
   "language": "python",
   "name": "python3"
  },
  "language_info": {
   "codemirror_mode": {
    "name": "ipython",
    "version": 3
   },
   "file_extension": ".py",
   "mimetype": "text/x-python",
   "name": "python",
   "nbconvert_exporter": "python",
   "pygments_lexer": "ipython3",
   "version": "3.9.12"
  }
 },
 "nbformat": 4,
 "nbformat_minor": 5
}
